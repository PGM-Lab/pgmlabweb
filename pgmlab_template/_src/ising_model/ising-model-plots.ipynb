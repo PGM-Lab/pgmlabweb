{
 "cells": [
  {
   "cell_type": "code",
   "execution_count": 1,
   "metadata": {
    "collapsed": true
   },
   "outputs": [],
   "source": [
    "%matplotlib inline"
   ]
  },
  {
   "cell_type": "code",
   "execution_count": 6,
   "metadata": {},
   "outputs": [
    {
     "name": "stderr",
     "output_type": "stream",
     "text": [
      "IOPub data rate exceeded.\n",
      "The notebook server will temporarily stop sending output\n",
      "to the client in order to avoid crashing it.\n",
      "To change this limit, set the config variable\n",
      "`--NotebookApp.iopub_data_rate_limit`.\n"
     ]
    },
    {
     "data": {
      "text/plain": [
       "'file:///Users/jaanaltosaar/Dropbox/100_projects/jaan.io/files/ising_model_magnetization.html'"
      ]
     },
     "execution_count": 6,
     "metadata": {},
     "output_type": "execute_result"
    }
   ],
   "source": [
    "import plotly.plotly as py\n",
    "import numpy as np\n",
    "import plotly.graph_objs as go\n",
    "import plotly.offline as offline\n",
    "\n",
    "\n",
    "offline.init_notebook_mode()\n",
    "\n",
    "\n",
    "steps = []\n",
    "magnetization = np.arange(-1.5,1.5,0.01)\n",
    "temperatures = np.arange(0.1,3,0.5)\n",
    "data = [dict(\n",
    "        visible = False,\n",
    "        line=dict(color='00CED1', width=6),\n",
    "        name = 'T = %.1f, y=tanh((m+H)/T)' % temperature,\n",
    "        x = magnetization,\n",
    "        y = np.tanh(1. / temperature * magnetization)) for temperature in temperatures]\n",
    "data[0]['visible'] = True\n",
    "trace = go.Scatter(\n",
    "    x = magnetization,\n",
    "    y = magnetization,\n",
    "    mode = 'lines',\n",
    "    line=dict(width=6),\n",
    "    name = 'y = m',\n",
    "    visible = True,\n",
    ")\n",
    "data.append(trace)\n",
    "\n",
    "\n",
    "for i in range(len(data)):\n",
    "    step = dict(\n",
    "        method = 'restyle',\n",
    "        label = data[i]['name'].split(',')[0].split('=')[-1],\n",
    "        args = ['visible', [False] * len(data)],\n",
    "    )\n",
    "    step['args'][1][i] = True # Toggle i'th trace to \"visible\"\n",
    "    step['args'][1][-1] = True # Toggle the left-hand-side to always be visible\n",
    "    steps.append(step)\n",
    "\n",
    "sliders = [dict(\n",
    "    active = len(data),\n",
    "    currentvalue = {\"prefix\": \"Temperature: \"},\n",
    "    pad = {\"t\": 50},\n",
    "    steps = steps\n",
    ")]\n",
    "\n",
    "layout = dict(sliders=sliders, legend=dict(y=0.9, x=0.))\n",
    "\n",
    "# fig = dict(data=data, layout=layout)\n",
    "\n",
    "fig = go.Figure(data=data, layout=layout)\n",
    "\n",
    "offline.plot(fig, filename='../../files/ising_model_magnetization.html', show_link=False)"
   ]
  },
  {
   "cell_type": "code",
   "execution_count": null,
   "metadata": {
    "collapsed": true
   },
   "outputs": [],
   "source": []
  }
 ],
 "metadata": {
  "anaconda-cloud": {},
  "kernelspec": {
   "display_name": "Python 3",
   "language": "python",
   "name": "python3"
  },
  "language_info": {
   "codemirror_mode": {
    "name": "ipython",
    "version": 3
   },
   "file_extension": ".py",
   "mimetype": "text/x-python",
   "name": "python",
   "nbconvert_exporter": "python",
   "pygments_lexer": "ipython3",
   "version": "3.6.2"
  }
 },
 "nbformat": 4,
 "nbformat_minor": 2
}
